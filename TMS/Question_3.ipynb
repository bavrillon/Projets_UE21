{
 "cells": [
  {
   "cell_type": "markdown",
   "metadata": {},
   "source": [
    "Bastien AVRILLON"
   ]
  },
  {
   "cell_type": "markdown",
   "metadata": {},
   "source": [
    "***Mini-projet Traitement du Signal - q3***"
   ]
  },
  {
   "cell_type": "markdown",
   "metadata": {},
   "source": [
    "Montrons que les coefficients $(α_k)_{1≤k≤p}$ sont solutions de l'équation matricielle :\n",
    "\n",
    "$$\n",
    "\\begin{pmatrix}\n",
    "r_s[0] & r_s[1] & \\cdots & r_s[p-1] \\\\\n",
    "r_s[1] & r_s[0] & \\cdots & r_s[p-2] \\\\\n",
    "\\vdots & \\vdots & \\ddots & \\vdots \\\\\n",
    "r_s[p-1] & r_s[p-2] & \\cdots & r_s[0]\n",
    "\\end{pmatrix}\n",
    "\\begin{pmatrix}\n",
    "α_1 \\\\\n",
    "α_2 \\\\\n",
    "\\vdots \\\\\n",
    "α_p\n",
    "\\end{pmatrix}\n",
    "=\n",
    "\\begin{pmatrix}\n",
    "r_s[1] \\\\\n",
    "r_s[2] \\\\\n",
    "\\vdots \\\\\n",
    "r_s[p]\n",
    "\\end{pmatrix}\n",
    "$$\n",
    "\n",
    "où la matrice représentée est donc : $(r_s[|i-j|])_{1≤i,j≤p}$.\n",
    "\n",
    "Pour cela, posons $\\beta[n] = s[n] - \\tilde{s}[n] = s[n] - \\sum_{k=1}^{p} α_k s[n - k]$, tel que $ϵ[n] = \\beta[n]^2$. L'erreur d'estimation moyenne est par définition : $\\sum_{n=1}^{N-1} ϵ[n] = \\sum_{n=1}^{N-1} \\beta[n]^2$. On cherche les coefficients $(α_k)$ tels que la dérivée de cette erreur par rapport à chaque $α_k$ soit nulle, ie tels que pour tout k respectant $1≤k≤p$  :\n",
    "\n",
    "$$ 0 = \\frac{\\partial}{\\partial α_k} \\left( \\sum_{n=1}^{N-1} \\beta[n]^2 \\right) = 2 \\sum_{n=1}^{N-1} \\beta[n] \\frac{\\partial \\beta[n]}{\\partial α_k} $$\n",
    "\n",
    "Or sachant $ \\frac{\\partial \\beta[n]} {\\partial α_k} = -s[n - k] $ et en utilisant l'expression de $\\beta[n]$, on obtient $0 = 2 \\sum_{n=1}^{N-1} \\left( s[n] - \\sum_{j=1}^{p} α_j s[n - j] \\right) (-s[n - k])$.\n",
    "\n",
    "Ceci permet d'en déduire $ \\sum_{n=1}^{N-1} s[n] s[n - k] = \\sum_{n=1}^{N-1} \\sum_{j=1}^{p} α_j s[n - j] s[n - k] $, et après changement d'indice :\n",
    "$$ \\sum_{l=1}^{N-1-k} s[l+k] s[l] = \\sum_{j=1}^{p} α_j \\sum_{l=1}^{N-1-k}   s[l + k - j] s[l] $$\n",
    "\n",
    "On retrouve l'expression de $r_s[k] = \\frac{1}{N} \\sum_{l=1}^{N-k} s[l] s[l + k]$ (en négligeant le proclème de borne supérieure de la somme !), d'où :\n",
    "\n",
    "$$ r_s[k] = \\sum_{j=1}^{p} α_j r_s[k-j]$$\n",
    "\n",
    "MAIS CE QU'IL FAUDRAIT OBTENIR EST : \n",
    "\n",
    "$$ r_s[k] = \\sum_{j=1}^{p} α_j r_s[|k-j|]$$\n"
   ]
  }
 ],
 "metadata": {
  "kernelspec": {
   "display_name": "Python 3 (ipykernel)",
   "language": "python",
   "name": "python3"
  },
  "language_info": {
   "codemirror_mode": {
    "name": "ipython",
    "version": 3
   },
   "file_extension": ".py",
   "mimetype": "text/x-python",
   "name": "python",
   "nbconvert_exporter": "python",
   "pygments_lexer": "ipython3",
   "version": "3.12.7"
  }
 },
 "nbformat": 4,
 "nbformat_minor": 4
}

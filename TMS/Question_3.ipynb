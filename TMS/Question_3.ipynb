{
 "cells": [
  {
   "cell_type": "markdown",
   "metadata": {},
   "source": [
    "Bastien AVRILLON et Guillaume GIESSNER"
   ]
  },
  {
   "cell_type": "markdown",
   "metadata": {},
   "source": [
    "## Mini-projet Traitement du Signal - QUESTION 3"
   ]
  },
  {
   "cell_type": "markdown",
   "metadata": {},
   "source": [
    "Montrons que les coefficients $(α_k)_{1≤k≤p}$ sont solutions de l'équation matricielle :\n",
    "\n",
    "$$\n",
    "R\n",
    "\\begin{pmatrix}\n",
    "α_1 \\\\\n",
    "α_2 \\\\\n",
    "\\vdots \\\\\n",
    "α_p\n",
    "\\end{pmatrix}\n",
    "=\n",
    "\\begin{pmatrix}\n",
    "r_s[1] \\\\\n",
    "r_s[2] \\\\\n",
    "\\vdots \\\\\n",
    "r_s[p]\n",
    "\\end{pmatrix}\n",
    "$$\n",
    "\n",
    "où $R$ est une matrice de $\\mathcal{M}_p(\\mathbb{R})$ définie par : $R_{ij} = R_{ji} = \\sum_{k=0}^{N-1-\\max(i,j)} s[k]s[k + |i - j|]$.\n",
    "\n",
    "Pour cela, posons $\\beta[n] = s[n] - \\tilde{s}[n] = s[n] - \\sum_{k=1}^{p} α_k s[n - k]$, tel que $ϵ[n] = \\beta[n]^2$. L'erreur d'estimation moyenne est par définition : $\\sum_{n=1}^{N-1} ϵ[n] = \\sum_{n=1}^{N-1} \\beta[n]^2$. On cherche les coefficients $(α_k)$ tels que la dérivée de cette erreur par rapport à chaque $α_k$ soit nulle, ie tels que pour tout k respectant $1≤k≤p$  :\n",
    "\n",
    "$$ 0 = \\frac{\\partial}{\\partial α_k} \\left( \\sum_{n=1}^{N-1} \\beta[n]^2 \\right) = 2 \\sum_{n=1}^{N-1} \\beta[n] \\frac{\\partial \\beta[n]}{\\partial α_k} $$\n",
    "\n",
    "Or sachant $ \\frac{\\partial \\beta[n]} {\\partial α_k} = -s[n - k] $ et en utilisant l'expression de $\\beta[n]$, on obtient $0 = 2 \\sum_{n=1}^{N-1} \\left( s[n] - \\sum_{j=1}^{p} α_j s[n - j] \\right) (-s[n - k])$.\n",
    "\n",
    "Ceci permet d'en déduire $ \\sum_{n=1}^{N-1} s[n] s[n - k] = \\sum_{n=1}^{N-1} \\sum_{j=1}^{p} α_j s[n - j] s[n - k] $, et après changement d'indice dans la somme du membre de gauche (sachant $1≤k≤p$), puis dans celle du membre de droite :\n",
    "$$ \\begin{aligned} \n",
    "\\sum_{l=0}^{N-1-k} s[l+k] s[l] &= \\sum_{j=1}^{p} α_j \\sum_{l=1}^{N-1} s[l - j] s[l - k] \\\\\n",
    "&= \\sum_{j=1}^{p} α_j \\sum_{l=\\max(k,j)}^{N-1} s[l - j] s[l - k] \\\\\n",
    "&= \\sum_{j=1}^{p} α_j \\sum_{l=0}^{N-1-\\max(k,j)} s[l - j +\\max(k,j)] s[l - k +\\max(k,j)] \\\\\n",
    "&= \\sum_{j=1}^{p} α_j \\sum_{l=0}^{N-1-\\max(k,j)}  s[l + |k - j|] s[l] \\\\\n",
    "&= \\sum_{j=1}^{p} α_j R_{kj}\n",
    "\\end{aligned}$$\n",
    "\n",
    "Lors du calcul, on a utilisé :\n",
    "- Si $k \\geq j$ : $s[l - j + \\max(k,j)]\\, s[l - k + \\max(k,j)] = s[l + k - j]\\, s[l] = s[l + |k - j|]\\, s[l]$\n",
    "- Si $k < j$ :  $s[l - j + \\max(k,j)]\\, s[l - k + \\max(k,j)] = s[l]\\, s[l + j - k] = s[l + |j - k|]\\, s[l]$\n",
    "\n",
    "Et en retrouvant l'expression de $r_s[k] = \\sum_{l=0}^{N-1-k} s[l] s[l + k]$ dans le terme de gauche, on obtient finalement :\n",
    "$$ r_s[k] = \\sum_{j=1}^{p} α_j R_{kj}$$\n",
    "Cette égalité étant valable pour tout $1≤k≤p$, on a montré le produit matriciel souhaité."
   ]
  }
 ],
 "metadata": {
  "kernelspec": {
   "display_name": "Python 3 (ipykernel)",
   "language": "python",
   "name": "python3"
  },
  "language_info": {
   "codemirror_mode": {
    "name": "ipython",
    "version": 3
   },
   "file_extension": ".py",
   "mimetype": "text/x-python",
   "name": "python",
   "nbconvert_exporter": "python",
   "pygments_lexer": "ipython3",
   "version": "3.12.7"
  }
 },
 "nbformat": 4,
 "nbformat_minor": 4
}

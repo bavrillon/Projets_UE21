{
 "cells": [
  {
   "cell_type": "markdown",
   "metadata": {},
   "source": [
    "##### Bastien AVRILLON et Guillaume GIESSNER (Groupe n°4)"
   ]
  },
  {
   "cell_type": "markdown",
   "metadata": {},
   "source": [
    "# <center>Mini-projet 4 d'Optimisation - RESTAURATION D'IMAGES</center>"
   ]
  },
  {
   "cell_type": "markdown",
   "metadata": {},
   "source": []
  },
  {
   "cell_type": "markdown",
   "metadata": {},
   "source": [
    "## 1 - Étude du problème d'optimisation"
   ]
  },
  {
   "cell_type": "markdown",
   "metadata": {},
   "source": [
    "#### Question 1 -"
   ]
  },
  {
   "cell_type": "markdown",
   "metadata": {},
   "source": [
    "Les variables de décisions sont les $N = n \\times m$ pixel de l'images qui forment donc un vecteur $z \\in \\mathbb{R}^{n \\times m}$. Par commodité, on indice ces variables par leur position dans l'image, en voyant $z$ comme une matrice de $\\mathcal{M}_{n \\times m}(\\mathbb{R})$."
   ]
  },
  {
   "cell_type": "markdown",
   "metadata": {},
   "source": [
    "Le problème de restauration d’image consiste à minimiser la fonction coût suivante :\n",
    "\n",
    "$\\begin{aligned}\n",
    "f \\colon \\mathbb{R}^{n \\times m} \\to \\mathbb{R} \\\\\n",
    "z \\mapsto f(z) & = \\dfrac{1}{2} \\| z - u_b \\|_2^2 + \\sum_{i,j} \\| \\nabla z(i,j) \\|_2^2 \\\\\n",
    "                &= \\sum_{1 \\leq i \\leq n \\; , \\; 1 \\leq j \\leq m} \\dfrac{1}{2} (z(i,j) - u_b(i,j))^2 \\\\\n",
    "                &+ \\sum_{1 \\leq j < m} \\left( z(n, j+1) - z(n, j) \\right)^2 \\\\ \n",
    "                &+ \\sum_{1 \\leq i < n} \\left( z(i+1, m) - z(i, m) \\right)^2 \\\\\n",
    "                &+ \\sum_{\\substack{1 \\leq i < n \\\\ 1 \\leq j < m}} \\left( z(i+1, j) - z(i, j) \\right)^2 + \\left( z(i, j+1) - z(i, j) \\right)^2\n",
    "\\end{aligned}$"
   ]
  },
  {
   "cell_type": "markdown",
   "metadata": {},
   "source": [
    "On a effectivement  $\\|\\nabla u(i,j)\\|_2^2 = \\nabla_x u(i,j)^2 + \\nabla_y u(i,j)^2 $, donc :\n",
    "\n",
    "$ \\begin{aligned}\n",
    "\\sum_{i,j} \\| \\nabla u(i,j) \\|_2^2 &= \\sum_{1 \\leq i \\leq n \\; , \\; 1 \\leq j \\leq m} \\nabla_x u(i,j)^2 + \\nabla_y u(i,j)^2 \\\\\n",
    "&= \\sum_{1 \\leq j < n} \\left( u(n, j+1) - u(n, j) \\right)^2 + \n",
    "    \\sum_{1 \\leq i < n} \\left( u(i+1, n) - u(i, n) \\right)^2\n",
    "    \\sum_{1 \\leq i < n \\; , \\; 1 \\leq j < m} \\left( u(i+1, j) - u(i, j) \\right)^2 + \\left( u(i, j+1) - u(i, j) \\right)^2 \\end{aligned}$"
   ]
  },
  {
   "cell_type": "markdown",
   "metadata": {},
   "source": [
    "La contrainte imposée dans la minimisation est définie par :\n",
    "\n",
    "$\\begin{aligned}\n",
    "c \\colon \\mathbb{R}^{2n \\times m} &\\to \\mathbb{R}^{2n \\times m}  \\\\\n",
    "z &\\mapsto c(z) = \\begin{cases} \n",
    "-z(i,j) & \\text{si } 1 \\leq i \\leq n, \\\\ \n",
    "z(i,j) - 1 & \\text{si } n + 1 \\leq i \\leq 2n. \n",
    "\\end{cases} \n",
    "\\end{aligned}$\n"
   ]
  },
  {
   "cell_type": "markdown",
   "metadata": {},
   "source": [
    "De cette manière, le problème de minimisation devient : $\\min\\limits_{z \\in \\mathbb{R}^{n \\times m},\\ c(z) \\leq 0} f(z)$\n"
   ]
  },
  {
   "cell_type": "markdown",
   "metadata": {},
   "source": [
    "#### Question 2 -"
   ]
  },
  {
   "cell_type": "markdown",
   "metadata": {},
   "source": [
    "$ u \\mapsto \\frac{1}{2} \\| u - u_b \\|_2^2 $ est une fonction quadratique de matrice héssienne $I_{nm}$ (qui est symétrique positive) donc convexe, \n",
    "\n",
    "$ u \\mapsto \\sum_{i,j} \\| \\nabla u(i,j) \\|_2^2 $ est également convexe, car comme détaillé par le calcul à la question précédente, elle s'écrit comme 3 sommes de termes de la forme $ u \\mapsto (u(k,l) - u(p,q))^2 $, qui sont eux-même convexe par composition préservant la convexité de l'application linéaire $ u \\mapsto u(k,l) - u(p,q) $ avec la fonction carré qui est convexe sur $\\mathbb{R}$.\n",
    "\n",
    "Ainsi, $f$ est convexe, comme somme de ceux fonctions convexes."
   ]
  },
  {
   "cell_type": "markdown",
   "metadata": {},
   "source": [
    "La différentiabilité de cette fonction $f$ provient du fait qu'elle est une fonction polynomiale (en les coordonnées de la base canonique de $\\mathbb{R}^{n \\times m}$),comme détaillé par le calcul à la question précédente."
   ]
  },
  {
   "cell_type": "markdown",
   "metadata": {},
   "source": [
    "#### Question 3 -"
   ]
  }
 ],
 "metadata": {
  "language_info": {
   "name": "python"
  }
 },
 "nbformat": 4,
 "nbformat_minor": 2
}

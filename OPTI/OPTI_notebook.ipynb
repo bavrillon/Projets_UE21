{
 "cells": [
  {
   "cell_type": "markdown",
   "metadata": {},
   "source": [
    "##### Bastien AVRILLON et Guillaume GIESSNER (Groupe n°4)"
   ]
  },
  {
   "cell_type": "markdown",
   "metadata": {},
   "source": [
    "# <center>Mini-projet 4 d'Optimisation - RESTAURATION D'IMAGES</center>"
   ]
  },
  {
   "cell_type": "markdown",
   "metadata": {},
   "source": []
  }
 ],
 "metadata": {
  "language_info": {
   "name": "python"
  }
 },
 "nbformat": 4,
 "nbformat_minor": 2
}

{
 "cells": [
  {
   "cell_type": "code",
   "execution_count": 1,
   "metadata": {},
   "outputs": [],
   "source": [
    "import numpy as np"
   ]
  },
  {
   "cell_type": "code",
   "execution_count": null,
   "metadata": {},
   "outputs": [],
   "source": [
    "def optim_sous_gradient(sous_grad_fun, x0, max_iter = 10000, epsilon_grad_fun = 0.005):\n",
    "    k = 0\n",
    "    xk = x0\n",
    "    lk = 0.05\n",
    "    sous_grad_f_xk = sous_grad_fun(xk)\n",
    "    nb_iterations = 0\n",
    "    while ((k<max_iter) and (np.linalg.norm(sous_grad_f_xk.reshape(-1),1)>epsilon_grad_fun)):\n",
    "        pk = -sous_grad_f_xk\n",
    "        xk = xk + lk*pk\n",
    "        sous_grad_f_xk = sous_grad_fun(xk)\n",
    "        k = k + 1\n",
    "        nb_iterations += 1\n",
    "        lk = 1/nb_iterations\n",
    "    return xk,nb_iterations\n"
   ]
  },
  {
   "cell_type": "markdown",
   "metadata": {},
   "source": [
    "Q2 -"
   ]
  },
  {
   "cell_type": "code",
   "execution_count": null,
   "metadata": {},
   "outputs": [],
   "source": [
    "    pas = int(len(w) * (1 - R))\n",
    "    signal_reconstruit = np.zeros(signal_size)\n",
    "    nombre_segments = len(blocks)\n",
    "\n",
    "    for i in range(nombre_segments):\n",
    "        indice_debut = i * pas\n",
    "        signal_reconstruit[indice_debut:indice_debut+len(w)] = blocks[i]/w              #Slmt cette lige modifiée\n",
    "\n",
    "    return signal_reconstruit"
   ]
  },
  {
   "cell_type": "markdown",
   "metadata": {},
   "source": [
    "Q3 -"
   ]
  },
  {
   "cell_type": "markdown",
   "metadata": {},
   "source": [
    "Pb de nommer correctement les objets (ex : erreur quadratique moyenne), mais sinon je suis ok.\n",
    "Rajouter une petite étape d'inversion des sommes p <-> pour exhiber produit matriciel"
   ]
  },
  {
   "cell_type": "code",
   "execution_count": null,
   "metadata": {},
   "outputs": [],
   "source": [
    "def estimate_pitch(signal, sample_rate, min_freq=50, max_freq=200, threshold=1):\n",
    "\n",
    "    \"\"\"\n",
    "    Estimate the pitch of an audio segment using the autocorrelation method and \n",
    "    indicate whether or not it is a voiced signal\n",
    "\n",
    "    Parameters\n",
    "    ----------\n",
    "    \n",
    "    signal: array-like\n",
    "      audio segment\n",
    "    sample_rate: int\n",
    "      sample rate of the audio signal\n",
    "    min_freq: int\n",
    "      minimum frequency to consider (default 50 Hz)\n",
    "    max_freq: int\n",
    "      maximum frequency to consider (default 200 Hz)\n",
    "    threshold: float\n",
    "      threshold used to determine whether or not the audio segment is voiced\n",
    "\n",
    "    Returns\n",
    "    -------\n",
    "    \n",
    "    voiced: boolean\n",
    "      Indicates if the signal is voiced (True) or not\n",
    "    pitch: float\n",
    "      estimated pitch (in Hz)\n",
    "    \"\"\"\n",
    "\n",
    "    correlation_full = np.correlate(signal, signal, mode='full')\n",
    "    correlation = correlation_full[len(correlation_full)//2:]       #L'autocorrélation d'un signal est symétrique autour de zéro\n",
    "    indice_max,value_max = np.argmax(correlation),np.max(correlation)\n",
    "    pitch = sample_rate/indice_max\n",
    "\n",
    "    n_min = sample_rate // fmax\n",
    "    n_max = sample_rate // fmin\n",
    "    pitch_period = np.argmax(corr[n_min:n_max]) + n_min            #On s'intérèsse seulement au temps succeptibles de donner des fréquences audibles\n",
    "    pitch = sample_rate/pitch_period\n",
    "\n",
    "    voiced = (value_max >= threshold)\n",
    "\n",
    "    return voiced,pitch\n"
   ]
  }
 ],
 "metadata": {
  "kernelspec": {
   "display_name": "base",
   "language": "python",
   "name": "python3"
  },
  "language_info": {
   "codemirror_mode": {
    "name": "ipython",
    "version": 3
   },
   "file_extension": ".py",
   "mimetype": "text/x-python",
   "name": "python",
   "nbconvert_exporter": "python",
   "pygments_lexer": "ipython3",
   "version": "3.12.7"
  }
 },
 "nbformat": 4,
 "nbformat_minor": 2
}
